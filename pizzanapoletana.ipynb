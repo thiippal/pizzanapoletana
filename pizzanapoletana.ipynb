{
 "cells": [
  {
   "cell_type": "markdown",
   "metadata": {},
   "source": [
    "# Baker's percentages for Neapolitan pizza"
   ]
  },
  {
   "cell_type": "code",
   "execution_count": null,
   "metadata": {
    "collapsed": false
   },
   "outputs": [],
   "source": [
    "def napoletana(flour):\n",
    "    water = (int(flour) / 100 * 65)\n",
    "    yeast = (int(flour) / 100 * 0.5)\n",
    "    salt = (int(flour) / 100 * 2)\n",
    "    weight = int(water) +  int(yeast) + int(salt) + int(flour)\n",
    "    pizzas = int(weight) / 220\n",
    "    print 'For %i grams of flour, you need:' % int(flour)\n",
    "    print '- %i grams of water' % water\n",
    "    print '- %i grams of fresh yeast' % yeast\n",
    "    print '- %i grams of salt' % salt\n",
    "    print '\\n The dough will weigh %i grams, which is enough for %i pizzas assuming 220g per ball of dough.' % (weight, pizzas)"
   ]
  },
  {
   "cell_type": "code",
   "execution_count": null,
   "metadata": {
    "collapsed": false
   },
   "outputs": [],
   "source": [
    "flour = raw_input('Give the amount of flour in grams: ')"
   ]
  },
  {
   "cell_type": "code",
   "execution_count": null,
   "metadata": {
    "collapsed": false
   },
   "outputs": [],
   "source": [
    "napoletana(flour)"
   ]
  }
 ],
 "metadata": {
  "kernelspec": {
   "display_name": "Python 2",
   "language": "python",
   "name": "python2"
  },
  "language_info": {
   "codemirror_mode": {
    "name": "ipython",
    "version": 2
   },
   "file_extension": ".py",
   "mimetype": "text/x-python",
   "name": "python",
   "nbconvert_exporter": "python",
   "pygments_lexer": "ipython2",
   "version": "2.7.10"
  }
 },
 "nbformat": 4,
 "nbformat_minor": 0
}
